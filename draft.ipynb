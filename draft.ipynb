{
 "cells": [
  {
   "cell_type": "code",
   "execution_count": 1,
   "id": "2c01f4a1",
   "metadata": {
    "ExecuteTime": {
     "end_time": "2022-06-03T07:40:46.527970Z",
     "start_time": "2022-06-03T07:40:46.271901Z"
    }
   },
   "outputs": [],
   "source": [
    "import time\n",
    "import datetime\n",
    "from selenium import webdriver\n",
    "from selenium.webdriver.common.action_chains import ActionChains\n",
    "from selenium.webdriver.common.by import By\n",
    "from selenium.webdriver.common.keys import Keys\n",
    "from selenium.webdriver.support.wait import WebDriverWait\n",
    "from selenium.webdriver.support import expected_conditions as EC\n",
    "from selenium.webdriver.support.ui import Select\n",
    "from PIL import Image\n",
    "import ddddocr\n",
    "# import urllib\n",
    "# import requests\n",
    "# import pytesseract"
   ]
  },
  {
   "cell_type": "code",
   "execution_count": 2,
   "id": "c4a0d46b",
   "metadata": {
    "ExecuteTime": {
     "end_time": "2022-06-03T10:09:51.629112Z",
     "start_time": "2022-06-03T10:09:51.621697Z"
    }
   },
   "outputs": [
    {
     "name": "stdout",
     "output_type": "stream",
     "text": [
      "/home/yyzhong\n"
     ]
    }
   ],
   "source": [
    "from os.path import expanduser\n",
    "home = expanduser(\"~\")\n",
    "print(home)"
   ]
  },
  {
   "cell_type": "code",
   "execution_count": 2,
   "id": "4b109d21",
   "metadata": {
    "ExecuteTime": {
     "end_time": "2022-06-03T07:41:04.400198Z",
     "start_time": "2022-06-03T07:40:59.814176Z"
    }
   },
   "outputs": [],
   "source": [
    "# 打开网址\n",
    "\n",
    "login_url=\"https://hk.sz.gov.cn:8118/\"\n",
    "driver = webdriver.Chrome(executable_path=\"/home/yyzhong/chromedriver_linux64/chromedriver\")\n",
    "driver.maximize_window()\n",
    "#driver.set_window_size(1300,800)\n",
    "driver.get(login_url)\n",
    "\n",
    "#关闭弹窗\n",
    "driver.find_element_by_xpath('//*[@class=\"winpop\" and @id=\"winLoginNotice\"]/div[1]/div[1]/button').click()\n",
    "\n",
    "#证件类型选择港澳通行证\n",
    "selectbox1=Select(driver.find_element_by_xpath('//*[@class=\"login_form\"]/div[1]/div[1]/select'))\n",
    "selectbox1.select_by_value(\"2\")\n",
    "\n",
    "#港澳通行证和密码\n",
    "account_input=driver.find_element_by_xpath('//*[@class=\"login_form\"]/div[2]/input')\n",
    "account_input.clear()\n",
    "account_input.send_keys(\"CC5639520\")\n",
    "pwd_input=driver.find_element_by_xpath('//*[@class=\"login_form\"]/div[3]/input')\n",
    "pwd_input.clear()\n",
    "pwd_input.send_keys(\"zhong123456\")\n",
    "\n"
   ]
  },
  {
   "cell_type": "code",
   "execution_count": null,
   "id": "e7a1f97e",
   "metadata": {},
   "outputs": [],
   "source": [
    "#验证码\n",
    "while True:\n",
    "    try:\n",
    "        #截图\n",
    "        verification_code_image=driver.find_element_by_xpath('//*[@class=\"login_form\"]/div[5]/a/img')\n",
    "        verification_code_image.screenshot(\"code.png\")\n",
    "        #识别\n",
    "        ocr = ddddocr.DdddOcr()\n",
    "        with open('code.png', 'rb') as f:\n",
    "            img_bytes = f.read()\n",
    "        ocr_result = ocr.classification(img_bytes)\n",
    "        print(ocr_result)\n",
    "        verification_input=driver.find_element_by_xpath('//*[@class=\"login_form\"]/div[4]/input')\n",
    "        verification_input.clear()\n",
    "        verification_input.send_keys(ocr_result)\n",
    "        driver.find_element_by_xpath('//*[@class=\"Btngroup\"]/button[1]').click()\n",
    "        time.sleep(1)\n",
    "    except:\n",
    "        break\n",
    "#确定弹窗\n",
    "driver.find_element_by_xpath('//*[@class=\"flexbox btngroup\"]/div[1]/button').click()"
   ]
  }
 ],
 "metadata": {
  "kernelspec": {
   "display_name": "Python 3 (ipykernel)",
   "language": "python",
   "name": "python3"
  },
  "language_info": {
   "codemirror_mode": {
    "name": "ipython",
    "version": 3
   },
   "file_extension": ".py",
   "mimetype": "text/x-python",
   "name": "python",
   "nbconvert_exporter": "python",
   "pygments_lexer": "ipython3",
   "version": "3.8.12"
  }
 },
 "nbformat": 4,
 "nbformat_minor": 5
}
