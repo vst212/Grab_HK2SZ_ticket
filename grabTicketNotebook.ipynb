{
 "cells": [
  {
   "cell_type": "code",
   "execution_count": 1,
   "id": "7f83f984",
   "metadata": {
    "ExecuteTime": {
     "end_time": "2022-06-03T09:02:26.628153Z",
     "start_time": "2022-06-03T09:02:25.784695Z"
    }
   },
   "outputs": [],
   "source": [
    "import time\n",
    "import datetime\n",
    "from selenium import webdriver\n",
    "from selenium.webdriver.common.action_chains import ActionChains\n",
    "from selenium.webdriver.common.by import By\n",
    "from selenium.webdriver.common.keys import Keys\n",
    "from selenium.webdriver.support.wait import WebDriverWait\n",
    "from selenium.webdriver.support import expected_conditions as EC\n",
    "from selenium.webdriver.support.ui import Select\n",
    "from PIL import Image\n",
    "import ddddocr\n",
    "# import urllib\n",
    "# import requests\n",
    "# import pytesseract"
   ]
  },
  {
   "cell_type": "markdown",
   "id": "5d83d42e",
   "metadata": {},
   "source": [
    "打开网址后，按F12查看元素\n",
    "\n",
    "find element: https://www.cnblogs.com/hanmk/p/8997786.html\n",
    "select: https://stackoverflow.com/questions/23019926/selenium-python-selecting-a-value-from-a-dropdown-based-on-variable"
   ]
  },
  {
   "cell_type": "code",
   "execution_count": 8,
   "id": "940e3aa8",
   "metadata": {
    "ExecuteTime": {
     "end_time": "2022-06-03T09:40:17.537322Z",
     "start_time": "2022-06-03T09:40:17.526556Z"
    }
   },
   "outputs": [],
   "source": [
    "class GetQuanrantineHotel:\n",
    "    def __init__(self, chromedriver_path):\n",
    "        self.login_url = \"https://hk.sz.gov.cn:8118/\"\n",
    "        self.driver = webdriver.Chrome(\n",
    "            executable_path=chromedriver_path\n",
    "        )\n",
    "        self.driver.maximize_window()\n",
    "        self.driver.get(self.login_url)\n",
    "\n",
    "        # 关闭弹窗\n",
    "        self.driver.find_element_by_xpath(\n",
    "            '//*[@class=\"winpop\" and @id=\"winLoginNotice\"]/div[1]/div[1]/button'\n",
    "        ).click()\n",
    "\n",
    "    def login(self, account, password, account_type=2):\n",
    "        self.select_account_type(account_type)\n",
    "        self.fill_account(account)\n",
    "        self.fill_psw(password)\n",
    "        self.verificaton_code()\n",
    "\n",
    "    def select_account_type(self, account_type):\n",
    "        # 证件类型选择\n",
    "        selectbox1 = Select(\n",
    "            self.driver.find_element_by_xpath(\n",
    "                '//*[@class=\"login_form\"]/div[1]/div[1]/select'\n",
    "            )\n",
    "        )\n",
    "        selectbox1.select_by_value(str(account_type))\n",
    "\n",
    "    def fill_account(self, account):\n",
    "        # 账号(e.g.港澳通行证)\n",
    "        account_input = self.driver.find_element_by_xpath(\n",
    "            '//*[@class=\"login_form\"]/div[2]/input'\n",
    "        )\n",
    "        account_input.clear()  # 先清空输入框\n",
    "        account_input.send_keys(str(account))  # 账号栏填入账号\n",
    "\n",
    "    def fill_psw(self, password):\n",
    "        # 密码\n",
    "        pwd_input = self.driver.find_element_by_xpath(\n",
    "            '//*[@class=\"login_form\"]/div[3]/input'\n",
    "        )\n",
    "        pwd_input.clear()  # 先清空输入框\n",
    "        pwd_input.send_keys(str(password))  # 密码栏填入密码\n",
    "\n",
    "    def verificaton_code(self):\n",
    "        # 验证码\n",
    "        while True:\n",
    "            try:\n",
    "                # 截图\n",
    "                verification_code_image = self.driver.find_element_by_xpath(\n",
    "                    '//*[@class=\"login_form\"]/div[5]/a/img'\n",
    "                )\n",
    "                verification_code_image.screenshot(\"code.png\")\n",
    "                # 识别\n",
    "                ocr = ddddocr.DdddOcr()\n",
    "                with open(\"code.png\", \"rb\") as f:\n",
    "                    img_bytes = f.read()\n",
    "                ocr_result = ocr.classification(img_bytes)\n",
    "                print(ocr_result)\n",
    "                verification_input = self.driver.find_element_by_xpath(\n",
    "                    '//*[@class=\"login_form\"]/div[4]/input'\n",
    "                )\n",
    "                verification_input.clear()\n",
    "                verification_input.send_keys(ocr_result)\n",
    "                #点击登陆\n",
    "                self.driver.find_element_by_xpath(\n",
    "                    '//*[@class=\"Btngroup\"]/button[1]'\n",
    "                ).click()\n",
    "                time.sleep(1.5)\n",
    "            except:\n",
    "                #如果成功登陆，就找不到“登陆”按钮了，报exception,说明成功登陆了，跳出循环\n",
    "                break\n",
    "        # 点击确定，关闭弹窗\n",
    "        self.driver.find_element_by_xpath(\n",
    "            '//*[@class=\"flexbox btngroup\"]/div[1]/button'\n",
    "        ).click()\n",
    "        time.sleep(0.2)\n",
    "\n",
    "    def reserve(self, day):\n",
    "        # 点击预约\n",
    "        while True:\n",
    "            # 点击\"我要预约\"\n",
    "            self.driver.find_element_by_xpath('//*[@class=\"wrap\"]/a[@id=\"a_canBookHotel\"]').click()    \n",
    "            try:\n",
    "                # 进入下一个页面，点击“预约”\n",
    "                self.driver.find_element_by_xpath('//*[@class=\"tzlist tongguanlist yuyuelist\"]/div[1]/section['+str(day)+']/div/div[3]/div/button').click()\n",
    "                #print(x.text)\n",
    "            except Exception as e:\n",
    "        #         print(e)\n",
    "                continue\n",
    "            else:\n",
    "                print(self.driver.find_element_by_xpath('//*[@class=\"tzlist tongguanlist yuyuelist\"]/div[1]/section['+str(day)+']/div/div[3]/div/button').text)\n",
    "                break\n",
    "        #x=self.driver.find_element_by_xpath('//*[@class=\"tzlist tongguanlist yuyuelist\"]/div[1]/section['+str(day)+']/div/div[1]/em')\n",
    "        #print(x.text)\n",
    "        #print(self.driver.find_element_by_xpath('//*[@class=\"tzlist tongguanlist yuyuelist\"]/div[1]/section['+str(day)+']/div/div[3]/div/button').size)\n",
    "        # 持续点击\n",
    "        while True:\n",
    "            try:\n",
    "                self.driver.find_element_by_xpath('//*[@class=\"tzlist tongguanlist yuyuelist\"]/div[1]/section['+str(day)+']/div/div[3]/div/button').click()\n",
    "            except:\n",
    "                break"
   ]
  },
  {
   "cell_type": "code",
   "execution_count": 9,
   "id": "2720f76b",
   "metadata": {
    "ExecuteTime": {
     "end_time": "2022-06-03T09:40:33.347572Z",
     "start_time": "2022-06-03T09:40:19.119918Z"
    }
   },
   "outputs": [
    {
     "name": "stdout",
     "output_type": "stream",
     "text": [
      "欢迎使用ddddocr，本项目专注带动行业内卷，个人博客:wenanzhe.com\n",
      "训练数据支持来源于:http://146.56.204.113:19199/preview\n",
      "爬虫框架feapder可快速一键接入，快速开启爬虫之旅：https://github.com/Boris-code/feapder\n",
      "D1BxH\n",
      "欢迎使用ddddocr，本项目专注带动行业内卷，个人博客:wenanzhe.com\n",
      "训练数据支持来源于:http://146.56.204.113:19199/preview\n",
      "爬虫框架feapder可快速一键接入，快速开启爬虫之旅：https://github.com/Boris-code/feapder\n",
      "285kkv\n",
      "預約\n"
     ]
    }
   ],
   "source": [
    "get_quanrantine_hotel=GetQuanrantineHotel(chromedriver_path=\"/home/yyzhong/chromedriver_linux64/chromedriver\")\n",
    "get_quanrantine_hotel.login(account=\"CC5639520\", password=\"zhong123456\", account_type=2)\n",
    "get_quanrantine_hotel.reserve(day=7)"
   ]
  },
  {
   "cell_type": "code",
   "execution_count": 4,
   "id": "cf21d3c0",
   "metadata": {
    "ExecuteTime": {
     "end_time": "2022-06-03T09:03:10.204581Z",
     "start_time": "2022-06-03T09:02:54.567561Z"
    },
    "scrolled": false
   },
   "outputs": [
    {
     "name": "stdout",
     "output_type": "stream",
     "text": [
      "預約\n"
     ]
    }
   ],
   "source": []
  },
  {
   "cell_type": "code",
   "execution_count": null,
   "id": "4f0fa0d1",
   "metadata": {
    "ExecuteTime": {
     "end_time": "2022-06-03T08:57:43.906105Z",
     "start_time": "2022-06-03T08:57:43.419097Z"
    }
   },
   "outputs": [],
   "source": [
    "get_quanrantine_hotel.driver.find_element_by_xpath('//*[@class=\"wrap\"]/a[@id=\"a_canBookHotel\"]').click()  "
   ]
  },
  {
   "cell_type": "markdown",
   "id": "b6ea5f8f",
   "metadata": {},
   "source": [
    "# 登陆"
   ]
  },
  {
   "cell_type": "code",
   "execution_count": null,
   "id": "99306b41",
   "metadata": {
    "ExecuteTime": {
     "end_time": "2022-06-03T08:36:38.332746Z",
     "start_time": "2022-06-03T08:36:34.358520Z"
    }
   },
   "outputs": [],
   "source": [
    "# 打开网址\n",
    "\n",
    "login_url=\"https://hk.sz.gov.cn:8118/\"\n",
    "driver = webdriver.Chrome(executable_path=\"/home/yyzhong/chromedriver_linux64/chromedriver\")\n",
    "driver.maximize_window()\n",
    "#driver.set_window_size(1300,800)\n",
    "driver.get(login_url)\n",
    "#点击确定，关闭弹窗\n",
    "driver.find_element_by_xpath('//*[@class=\"winpop\" and @id=\"winLoginNotice\"]/div[1]/div[1]/button').click()\n",
    "#证件类型选择港澳通行证\n",
    "selectbox1=Select(driver.find_element_by_xpath('//*[@class=\"login_form\"]/div[1]/div[1]/select'))\n",
    "selectbox1.select_by_value(\"2\")\n",
    "#港澳通行证和密码\n",
    "account_input=driver.find_element_by_xpath('//*[@class=\"login_form\"]/div[2]/input')\n",
    "account_input.clear()\n",
    "account_input.send_keys(\"CC5639520\")\n",
    "pwd_input=driver.find_element_by_xpath('//*[@class=\"login_form\"]/div[3]/input')\n",
    "pwd_input.clear()\n",
    "pwd_input.send_keys(\"zhong123456\")"
   ]
  },
  {
   "cell_type": "code",
   "execution_count": null,
   "id": "c0ceb6ad",
   "metadata": {
    "ExecuteTime": {
     "end_time": "2022-06-03T08:36:44.256479Z",
     "start_time": "2022-06-03T08:36:40.585599Z"
    },
    "scrolled": false
   },
   "outputs": [],
   "source": [
    "#验证码\n",
    "while True:\n",
    "    try:\n",
    "        #截图\n",
    "        verification_code_image=driver.find_element_by_xpath('//*[@class=\"login_form\"]/div[5]/a/img')\n",
    "        verification_code_image.screenshot(\"code.png\")\n",
    "        #识别\n",
    "        ocr = ddddocr.DdddOcr()\n",
    "        with open('code.png', 'rb') as f:\n",
    "            img_bytes = f.read()\n",
    "        ocr_result = ocr.classification(img_bytes)\n",
    "        print(ocr_result)\n",
    "        verification_input=driver.find_element_by_xpath('//*[@class=\"login_form\"]/div[4]/input')\n",
    "        verification_input.clear()\n",
    "        verification_input.send_keys(ocr_result)\n",
    "        #点击登陆\n",
    "        driver.find_element_by_xpath('//*[@class=\"Btngroup\"]/button[1]').click()\n",
    "        time.sleep(1)\n",
    "    except Exception as e:\n",
    "        print(e)\n",
    "        break\n",
    "#确定弹窗\n",
    "driver.find_element_by_xpath('//*[@class=\"flexbox btngroup\"]/div[1]/button').click()"
   ]
  },
  {
   "cell_type": "markdown",
   "id": "b19300ba",
   "metadata": {},
   "source": [
    "# 进行预约"
   ]
  },
  {
   "cell_type": "code",
   "execution_count": null,
   "id": "23eccd77",
   "metadata": {
    "ExecuteTime": {
     "end_time": "2022-06-03T08:37:49.327082Z",
     "start_time": "2022-06-03T08:37:48.879417Z"
    }
   },
   "outputs": [],
   "source": [
    "# 点击\"我要预约\"\n",
    "driver.find_element_by_xpath('//*[@class=\"wrap\"]/a[@id=\"a_canBookHotel\"]').click() "
   ]
  },
  {
   "cell_type": "code",
   "execution_count": null,
   "id": "f46271b9",
   "metadata": {
    "ExecuteTime": {
     "end_time": "2022-06-03T08:43:49.467617Z",
     "start_time": "2022-06-03T08:43:49.437227Z"
    }
   },
   "outputs": [],
   "source": [
    "day=6\n",
    "x=driver.find_element_by_xpath('//*[@class=\"tzlist tongguanlist yuyuelist\"]/div[1]/section['+str(day)+']/div/div[1]/em')\n",
    "print(x.text)"
   ]
  },
  {
   "cell_type": "code",
   "execution_count": null,
   "id": "7df07d76",
   "metadata": {
    "ExecuteTime": {
     "end_time": "2022-06-03T08:37:52.068298Z",
     "start_time": "2022-06-03T08:37:52.032681Z"
    }
   },
   "outputs": [],
   "source": [
    "# x=driver.find_element_by_xpath('//*[@class=\"tzlist tongguanlist yuyuelist\"]/div[1]/section[7]/div/div[3]/div/button')\n",
    "\n",
    "# print(x.location)\n",
    "# print(x.size)"
   ]
  },
  {
   "cell_type": "code",
   "execution_count": null,
   "id": "207e9dd2",
   "metadata": {
    "ExecuteTime": {
     "end_time": "2022-06-03T08:36:19.727058Z",
     "start_time": "2022-06-03T08:36:19.430284Z"
    }
   },
   "outputs": [],
   "source": [
    "# 点击预约\n",
    "while True:\n",
    "    # 点击\"我要预约\"\n",
    "    driver.find_element_by_xpath('//*[@class=\"wrap\"]/a[@id=\"a_canBookHotel\"]').click()    \n",
    "    try:\n",
    "        # 进入下一个页面，点击“预约”\n",
    "        driver.find_element_by_xpath('//*[@class=\"tzlist tongguanlist yuyuelist\"]/div[1]/section[7]/div/div[3]/div/button').click()\n",
    "        #print(x.text)\n",
    "    except Exception as e:\n",
    "#         print(e)\n",
    "        continue\n",
    "    else:\n",
    "        print(driver.find_element_by_xpath('//*[@class=\"tzlist tongguanlist yuyuelist\"]/div[1]/section[7]/div/div[3]/div/button').text)\n",
    "        break"
   ]
  },
  {
   "cell_type": "code",
   "execution_count": null,
   "id": "0f0b8338",
   "metadata": {
    "ExecuteTime": {
     "end_time": "2022-06-03T08:36:31.192994Z",
     "start_time": "2022-06-03T08:36:23.899522Z"
    }
   },
   "outputs": [],
   "source": [
    "while True:\n",
    "    try:\n",
    "        driver.find_element_by_xpath('//*[@class=\"tzlist tongguanlist yuyuelist\"]/div[1]/section[7]/div/div[3]/div/button').click()\n",
    "    except:\n",
    "        break"
   ]
  },
  {
   "cell_type": "code",
   "execution_count": null,
   "id": "3dc00791",
   "metadata": {},
   "outputs": [],
   "source": []
  },
  {
   "cell_type": "code",
   "execution_count": null,
   "id": "56a274df",
   "metadata": {
    "ExecuteTime": {
     "start_time": "2022-06-03T07:23:58.841Z"
    }
   },
   "outputs": [],
   "source": [
    "btnclose=driver.find_element_by_id('btn_close')"
   ]
  },
  {
   "cell_type": "code",
   "execution_count": null,
   "id": "82b7b442",
   "metadata": {
    "ExecuteTime": {
     "end_time": "2022-06-03T03:15:56.500399Z",
     "start_time": "2022-06-03T03:15:55.480750Z"
    }
   },
   "outputs": [],
   "source": []
  },
  {
   "cell_type": "code",
   "execution_count": null,
   "id": "ef1fa191",
   "metadata": {
    "ExecuteTime": {
     "end_time": "2022-06-03T03:15:39.223923Z",
     "start_time": "2022-06-03T03:15:35.902210Z"
    },
    "scrolled": true
   },
   "outputs": [],
   "source": []
  }
 ],
 "metadata": {
  "kernelspec": {
   "display_name": "Python 3 (ipykernel)",
   "language": "python",
   "name": "python3"
  },
  "language_info": {
   "codemirror_mode": {
    "name": "ipython",
    "version": 3
   },
   "file_extension": ".py",
   "mimetype": "text/x-python",
   "name": "python",
   "nbconvert_exporter": "python",
   "pygments_lexer": "ipython3",
   "version": "3.8.12"
  }
 },
 "nbformat": 4,
 "nbformat_minor": 5
}
